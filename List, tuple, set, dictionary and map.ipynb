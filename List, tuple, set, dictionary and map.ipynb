{
 "cells": [
  {
   "cell_type": "markdown",
   "id": "official-johns",
   "metadata": {},
   "source": [
    "# Data Structures\n",
    "\n",
    "Python has a couple of core Data Structures that are used very frequently.\n",
    "\n",
    "->Lists\n",
    "\n",
    "->Dictionaries\n",
    "\n",
    "Dictionaries and lists are the real workhorses of Python, but there are also other Data Structers like tuples, sets, Counters, etc, that are worth exploring too.\n",
    "\n",
    "## Lists\n",
    "\n",
    "Lists are written within square brackets [ ]"
   ]
  },
  {
   "cell_type": "code",
   "execution_count": 1,
   "id": "proved-header",
   "metadata": {},
   "outputs": [
    {
     "name": "stdout",
     "output_type": "stream",
     "text": [
      "['apple', 'banana', 'cherry']\n",
      "['apple', 'banana', 'mango']\n"
     ]
    }
   ],
   "source": [
    "# initialization methods\n",
    "\n",
    "#1. Normal Method\n",
    "thislist = [\"apple\", \"banana\", \"cherry\"]\n",
    "print(thislist)\n",
    "\n",
    "#2. Constructor method\n",
    "thislist = list((\"apple\", \"banana\", \"mango\"))\n",
    "print(thislist)"
   ]
  },
  {
   "cell_type": "code",
   "execution_count": 2,
   "id": "alike-comedy",
   "metadata": {},
   "outputs": [
    {
     "name": "stdout",
     "output_type": "stream",
     "text": [
      "['apple', 'banana', 'cherry', 'apple']\n"
     ]
    }
   ],
   "source": [
    "# allows duplicate elements\n",
    "thislist = [\"apple\", \"banana\", \"cherry\", \"apple\"]\n",
    "print(thislist)"
   ]
  },
  {
   "cell_type": "code",
   "execution_count": 3,
   "id": "bound-processing",
   "metadata": {},
   "outputs": [
    {
     "data": {
      "text/plain": [
       "list"
      ]
     },
     "execution_count": 3,
     "metadata": {},
     "output_type": "execute_result"
    }
   ],
   "source": [
    "# check type of an element\n",
    "type(thislist)"
   ]
  },
  {
   "cell_type": "code",
   "execution_count": 4,
   "id": "southwest-socket",
   "metadata": {},
   "outputs": [
    {
     "name": "stdout",
     "output_type": "stream",
     "text": [
      "['apple', 4, 'banana', True, 152.48]\n"
     ]
    }
   ],
   "source": [
    "# allows multiple datatypes\n",
    "thislist = [\"apple\", 4, \"banana\", True, 152.48]\n",
    "print(thislist)"
   ]
  },
  {
   "cell_type": "code",
   "execution_count": 5,
   "id": "seeing-quantum",
   "metadata": {},
   "outputs": [
    {
     "data": {
      "text/plain": [
       "5"
      ]
     },
     "execution_count": 5,
     "metadata": {},
     "output_type": "execute_result"
    }
   ],
   "source": [
    "# lenth of a list\n",
    "len(thislist)"
   ]
  },
  {
   "cell_type": "markdown",
   "id": "addressed-medium",
   "metadata": {},
   "source": [
    "### Operations"
   ]
  },
  {
   "cell_type": "code",
   "execution_count": 6,
   "id": "eligible-guard",
   "metadata": {},
   "outputs": [
    {
     "name": "stdout",
     "output_type": "stream",
     "text": [
      "Original List: ['apple', 4, 'banana', True, 152.48]\n",
      "Appended List: ['apple', 4, 'banana', True, 152.48, 'Orange', False]\n",
      "Extended List: ['apple', 4, 'banana', True, 152.48, 'Orange', False, 5.2, 12, 'papaya']\n",
      "Inserted List: ['apple', 'papaya', 4, 'banana', 1, True, 152.48, 'Orange', False, 5.2, 12, 'papaya']\n"
     ]
    }
   ],
   "source": [
    "print(\"Original List:\", thislist)\n",
    "\n",
    "# append operation\n",
    "thislist.append(\"Orange\")\n",
    "thislist.append(False)\n",
    "print(\"Appended List:\", thislist)\n",
    "\n",
    "# extend operation\n",
    "thislist.extend([5.2, 12, \"papaya\"])\n",
    "print(\"Extended List:\", thislist)\n",
    "\n",
    "# insert operation\n",
    "thislist.insert(1, \"papaya\")\n",
    "thislist.insert(4, 1)\n",
    "print(\"Inserted List:\", thislist)"
   ]
  },
  {
   "cell_type": "code",
   "execution_count": 9,
   "id": "future-maryland",
   "metadata": {},
   "outputs": [
    {
     "name": "stdout",
     "output_type": "stream",
     "text": [
      "Original List: ['apple', 4, 'banana', 1, True, 'Orange', False, 5.2, 12, 'papaya']\n",
      "Element removed from List: ['apple', 4, 'banana', 1, True, 'Orange', False, 5.2, 12]\n"
     ]
    }
   ],
   "source": [
    "print(\"Original List:\", thislist)\n",
    "\n",
    "# remove operation\n",
    "thislist.remove(\"papaya\")\n",
    "print(\"Element removed from List:\", thislist)"
   ]
  },
  {
   "cell_type": "code",
   "execution_count": 8,
   "id": "horizontal-anthropology",
   "metadata": {},
   "outputs": [
    {
     "name": "stdout",
     "output_type": "stream",
     "text": [
      "Pop element from List: ['apple', 4, 'banana', 1, True, 'Orange', False, 5.2, 12, 'papaya']\n"
     ]
    }
   ],
   "source": [
    "# pop operation\n",
    "thislist.pop(5)\n",
    "print(\"Pop element from List:\", thislist)"
   ]
  },
  {
   "cell_type": "code",
   "execution_count": 9,
   "id": "jewish-schedule",
   "metadata": {},
   "outputs": [
    {
     "data": {
      "text/plain": [
       "['banana', 1, True]"
      ]
     },
     "execution_count": 9,
     "metadata": {},
     "output_type": "execute_result"
    }
   ],
   "source": [
    "# slice operation\n",
    "thislist[2:5]"
   ]
  },
  {
   "cell_type": "code",
   "execution_count": 10,
   "id": "taken-aside",
   "metadata": {},
   "outputs": [
    {
     "data": {
      "text/plain": [
       "[12, 5.2, False, 'Orange', True, 1, 'banana', 4, 'apple']"
      ]
     },
     "execution_count": 10,
     "metadata": {},
     "output_type": "execute_result"
    }
   ],
   "source": [
    "# reverse operation\n",
    "thislist.reverse()\n",
    "thislist"
   ]
  },
  {
   "cell_type": "code",
   "execution_count": 11,
   "id": "cognitive-brazilian",
   "metadata": {},
   "outputs": [
    {
     "data": {
      "text/plain": [
       "6"
      ]
     },
     "execution_count": 11,
     "metadata": {},
     "output_type": "execute_result"
    }
   ],
   "source": [
    "# index operation\n",
    "thislist.index('banana')"
   ]
  },
  {
   "cell_type": "code",
   "execution_count": 12,
   "id": "victorian-shower",
   "metadata": {},
   "outputs": [
    {
     "name": "stdout",
     "output_type": "stream",
     "text": [
      "Sorted List: [16, 41, 45, 45, 55, 85]\n",
      "Count of 45 from list: 2\n",
      "Minimum Element: 16\n",
      "Maximum Element: 85\n"
     ]
    }
   ],
   "source": [
    "# other operations :- sort, count, max, min\n",
    "\n",
    "li = [16,45,85,55, 45, 41]\n",
    "\n",
    "li.sort()\n",
    "print(\"Sorted List:\", li)\n",
    "\n",
    "n = li.count(45)\n",
    "print(\"Count of 45 from list:\", n)\n",
    "\n",
    "# min\n",
    "print(\"Minimum Element:\", min(li))\n",
    "\n",
    "# max\n",
    "print(\"Maximum Element:\", max(li))"
   ]
  },
  {
   "cell_type": "markdown",
   "id": "scheduled-facial",
   "metadata": {},
   "source": [
    "# Tuples\n",
    "Tuples are sequences, just like lists. The differences between tuples and lists are, the tuples cannot be changed (immutable) unlike lists (mutable).\n",
    "Tuples use parentheses, whereas lists use square brackets.\n",
    "\n",
    "## Initialize a Tuple\n",
    "There are two ways to initialize an empty tuple. You can initialize an empty tuple by having () with no values in them."
   ]
  },
  {
   "cell_type": "code",
   "execution_count": 17,
   "id": "durable-blade",
   "metadata": {},
   "outputs": [
    {
     "name": "stdout",
     "output_type": "stream",
     "text": [
      "('apple', 'banana', 'cherry')\n",
      "('apple', 'banana', 'mango')\n"
     ]
    }
   ],
   "source": [
    "# initialization methods\n",
    "\n",
    "#1. Normal Method\n",
    "thistuple = (\"apple\", \"banana\", \"cherry\")\n",
    "print(thistuple)\n",
    "\n",
    "#2. Constructor method\n",
    "thistuple = tuple((\"apple\", \"banana\", \"mango\"))\n",
    "print(thistuple)"
   ]
  },
  {
   "cell_type": "code",
   "execution_count": 18,
   "id": "fallen-tsunami",
   "metadata": {},
   "outputs": [
    {
     "data": {
      "text/plain": [
       "tuple"
      ]
     },
     "execution_count": 18,
     "metadata": {},
     "output_type": "execute_result"
    }
   ],
   "source": [
    "type(thistuple)"
   ]
  },
  {
   "cell_type": "code",
   "execution_count": 15,
   "id": "czech-assignment",
   "metadata": {},
   "outputs": [
    {
     "name": "stdout",
     "output_type": "stream",
     "text": [
      "('apple', 'banana', 'cherry', 'apple')\n"
     ]
    }
   ],
   "source": [
    "# allows duplicate elements\n",
    "thistuple = (\"apple\", \"banana\", \"cherry\", \"apple\")\n",
    "print(thistuple)"
   ]
  },
  {
   "cell_type": "code",
   "execution_count": 16,
   "id": "reported-spell",
   "metadata": {},
   "outputs": [
    {
     "name": "stdout",
     "output_type": "stream",
     "text": [
      "('apple', 4, 'banana', True, 152.48)\n"
     ]
    }
   ],
   "source": [
    "# allows multiple datatypes\n",
    "thistuple = (\"apple\",4, \"banana\", True, 152.48)\n",
    "print(thistuple)"
   ]
  },
  {
   "cell_type": "markdown",
   "id": "color-ecuador",
   "metadata": {},
   "source": [
    "# set"
   ]
  },
  {
   "cell_type": "code",
   "execution_count": 17,
   "id": "2ddf67bc",
   "metadata": {},
   "outputs": [],
   "source": [
    "l=[]\n",
    "t=()\n",
    "s=set()"
   ]
  },
  {
   "cell_type": "code",
   "execution_count": 19,
   "id": "constitutional-level",
   "metadata": {},
   "outputs": [
    {
     "name": "stdout",
     "output_type": "stream",
     "text": [
      "{'apple', 'banana', 'cherry'}\n",
      "{'apple', 'mango', 'banana'}\n"
     ]
    }
   ],
   "source": [
    "# initialization methods\n",
    "\n",
    "#1. Normal Method\n",
    "thisset = {\"apple\", \"banana\", \"cherry\"}\n",
    "print(thisset)\n",
    "\n",
    "#2. Constructor method\n",
    "thisset = set((\"apple\", \"banana\", \"mango\"))\n",
    "print(thisset)"
   ]
  },
  {
   "cell_type": "code",
   "execution_count": 20,
   "id": "guided-costa",
   "metadata": {},
   "outputs": [
    {
     "data": {
      "text/plain": [
       "set"
      ]
     },
     "execution_count": 20,
     "metadata": {},
     "output_type": "execute_result"
    }
   ],
   "source": [
    "type(thisset)"
   ]
  },
  {
   "cell_type": "code",
   "execution_count": 21,
   "id": "spatial-tuesday",
   "metadata": {},
   "outputs": [
    {
     "name": "stdout",
     "output_type": "stream",
     "text": [
      "{True, 'apple', 'banana', 4, 152.48}\n"
     ]
    }
   ],
   "source": [
    "# allows multiple datatypes\n",
    "thisset = {\"apple\",4, \"banana\", True, 152.48}\n",
    "print(thisset)"
   ]
  },
  {
   "cell_type": "markdown",
   "id": "devoted-integrity",
   "metadata": {},
   "source": [
    "### Operations"
   ]
  },
  {
   "cell_type": "code",
   "execution_count": 23,
   "id": "sixth-depression",
   "metadata": {},
   "outputs": [
    {
     "name": "stdout",
     "output_type": "stream",
     "text": [
      "{1, 2, 3, 4}\n",
      "{1, 2, 3, 4, 5, 7}\n",
      "{1, 2, 3, 4, 5, 6, 7, 8, 9}\n"
     ]
    }
   ],
   "source": [
    "s1 = set((1,2,3))\n",
    "\n",
    "# add operation\n",
    "s1.add(4)\n",
    "print(s1) # 1,2,3,4\n",
    "\n",
    "#update operation\n",
    "s1.update([1,3,5,7])\n",
    "print(s1) # 1,2,3,4,5,7\n",
    "\n",
    "# from multiple data types at once\n",
    "s1.update([2,4,6],{5,6,7,8,9})\n",
    "print(s1) "
   ]
  },
  {
   "cell_type": "code",
   "execution_count": 24,
   "id": "floating-import",
   "metadata": {},
   "outputs": [
    {
     "name": "stdout",
     "output_type": "stream",
     "text": [
      "{1, 2, 3, 4, 5, 6, 7, 9}\n",
      "{1, 2, 3, 4, 6, 7, 9}\n"
     ]
    }
   ],
   "source": [
    "# remove operation\n",
    "s1.remove(8)\n",
    "print(s1)\n",
    "\n",
    "# discard operation\n",
    "s1.discard(5)\n",
    "print(s1)"
   ]
  },
  {
   "cell_type": "code",
   "execution_count": 23,
   "id": "australian-mambo",
   "metadata": {},
   "outputs": [
    {
     "name": "stdout",
     "output_type": "stream",
     "text": [
      "KeyError raised....\n",
      "{1, 2, 3, 4, 6, 7, 9}\n"
     ]
    }
   ],
   "source": [
    "# diiference between discard and remove in set\n",
    "try:\n",
    "    s1.remove(10)\n",
    "    print(s1)\n",
    "except KeyError as e:\n",
    "    print(\"KeyError raised....\")\n",
    "\n",
    "try:\n",
    "    s1.discard(10)\n",
    "    print(s1)\n",
    "except KeyError as e:\n",
    "    print(\"KeyError raised....\")"
   ]
  },
  {
   "cell_type": "code",
   "execution_count": 24,
   "id": "devoted-liechtenstein",
   "metadata": {},
   "outputs": [
    {
     "name": "stdout",
     "output_type": "stream",
     "text": [
      "----Union----\n",
      "{1, 2, 3, 4, 5, 6, 7, 8}\n",
      "{1, 2, 3, 4, 5, 6, 7, 8}\n",
      "----Intersection----\n",
      "{4, 5}\n",
      "{4, 5}\n",
      "----Difference----\n",
      "{1, 2, 3}\n",
      "{1, 2, 3}\n"
     ]
    }
   ],
   "source": [
    "A = {1, 2, 3, 4, 5}\n",
    "B = {4, 5, 6, 7, 8}\n",
    "\n",
    "# union operation\n",
    "print(\"----Union----\")\n",
    "print(A|B)\n",
    "print(A.union(B)) # 1,2,3,4,5,6,7,8\n",
    "\n",
    "# intersection operation\n",
    "print(\"----Intersection----\")\n",
    "print(A&B)\n",
    "print(A.intersection(B)) # 4,5\n",
    "\n",
    "# difference operation\n",
    "print(\"----Difference----\")\n",
    "print(A-B)\n",
    "print(A.difference(B)) # 1,2,3 "
   ]
  },
  {
   "cell_type": "markdown",
   "id": "violent-curve",
   "metadata": {},
   "source": [
    "# Dictionary\n",
    "\n",
    "Dictionaries are unordered data structures that map keys into values. The value can be anything (lists, functions, strings, anything). The key has to be immutable, for example, numbers, strings or tuples.\n",
    "\n",
    "Example\n",
    "dictionary: word we look up is key, look up is definition (value)"
   ]
  },
  {
   "cell_type": "code",
   "execution_count": 25,
   "id": "turned-interim",
   "metadata": {},
   "outputs": [
    {
     "name": "stdout",
     "output_type": "stream",
     "text": [
      "{'brand': 'Ford', 'model': 'Mustang', 'year': 1964}\n"
     ]
    }
   ],
   "source": [
    "thisdict = {\n",
    "  \"brand\": \"Ford\",\n",
    "  \"model\": \"Mustang\",\n",
    "  \"year\": 1964\n",
    "}\n",
    "print(thisdict)"
   ]
  },
  {
   "cell_type": "code",
   "execution_count": 26,
   "id": "increasing-mattress",
   "metadata": {},
   "outputs": [
    {
     "data": {
      "text/plain": [
       "'Ford'"
      ]
     },
     "execution_count": 26,
     "metadata": {},
     "output_type": "execute_result"
    }
   ],
   "source": [
    "thisdict[\"brand\"]"
   ]
  },
  {
   "cell_type": "code",
   "execution_count": 27,
   "id": "hispanic-advisory",
   "metadata": {},
   "outputs": [
    {
     "name": "stdout",
     "output_type": "stream",
     "text": [
      "{'brand': 'Ford', 'model': 'Mustang', 'year': 2020, 'colors': ['red', 'white', 'blue']}\n"
     ]
    }
   ],
   "source": [
    "# Duplicates are not allowed\n",
    "\n",
    "thisdict = {\n",
    "  \"brand\": \"Ford\",\n",
    "  \"model\": \"Mustang\",\n",
    "  \"year\": 1964,\n",
    "  \"year\": 2020,\n",
    "  \"colors\": [\"red\", \"white\", \"blue\"]\n",
    "}\n",
    "print(thisdict)"
   ]
  },
  {
   "cell_type": "code",
   "execution_count": 28,
   "id": "korean-basement",
   "metadata": {},
   "outputs": [
    {
     "data": {
      "text/plain": [
       "4"
      ]
     },
     "execution_count": 28,
     "metadata": {},
     "output_type": "execute_result"
    }
   ],
   "source": [
    "len(thisdict)"
   ]
  },
  {
   "cell_type": "code",
   "execution_count": 29,
   "id": "crude-madonna",
   "metadata": {},
   "outputs": [
    {
     "data": {
      "text/plain": [
       "dict"
      ]
     },
     "execution_count": 29,
     "metadata": {},
     "output_type": "execute_result"
    }
   ],
   "source": [
    "type(thisdict)"
   ]
  },
  {
   "cell_type": "code",
   "execution_count": 30,
   "id": "theoretical-seller",
   "metadata": {},
   "outputs": [
    {
     "data": {
      "text/plain": [
       "{'brand': 'Ford', 'model': 'Mustang', 'year': 2020, 'colors': 'blue'}"
      ]
     },
     "execution_count": 30,
     "metadata": {},
     "output_type": "execute_result"
    }
   ],
   "source": [
    "# updating value\n",
    "\n",
    "thisdict[\"colors\"] = \"blue\"\n",
    "thisdict"
   ]
  },
  {
   "cell_type": "code",
   "execution_count": 31,
   "id": "comprehensive-notice",
   "metadata": {},
   "outputs": [
    {
     "name": "stdout",
     "output_type": "stream",
     "text": [
      "{'brand': 'Ford', 'model': 'Mustang', 'colors': 'blue'}\n"
     ]
    }
   ],
   "source": [
    "# delete an element\n",
    "\n",
    "del thisdict[\"year\"]\n",
    "print(thisdict)"
   ]
  },
  {
   "cell_type": "code",
   "execution_count": 32,
   "id": "corporate-transparency",
   "metadata": {},
   "outputs": [
    {
     "data": {
      "text/plain": [
       "dict_keys(['brand', 'model', 'colors'])"
      ]
     },
     "execution_count": 32,
     "metadata": {},
     "output_type": "execute_result"
    }
   ],
   "source": [
    "# getting all keys from dictonary\n",
    "\n",
    "thisdict.keys()"
   ]
  },
  {
   "cell_type": "code",
   "execution_count": 33,
   "id": "floppy-firmware",
   "metadata": {},
   "outputs": [
    {
     "data": {
      "text/plain": [
       "dict_values(['Ford', 'Mustang', 'blue'])"
      ]
     },
     "execution_count": 33,
     "metadata": {},
     "output_type": "execute_result"
    }
   ],
   "source": [
    "# getting all values from dictonary\n",
    "\n",
    "thisdict.values()"
   ]
  },
  {
   "cell_type": "code",
   "execution_count": 34,
   "id": "improved-basement",
   "metadata": {},
   "outputs": [
    {
     "data": {
      "text/plain": [
       "dict_items([('brand', 'Ford'), ('model', 'Mustang'), ('colors', 'blue')])"
      ]
     },
     "execution_count": 34,
     "metadata": {},
     "output_type": "execute_result"
    }
   ],
   "source": [
    "# getting key value pair\n",
    "\n",
    "thisdict.items()"
   ]
  },
  {
   "cell_type": "code",
   "execution_count": 35,
   "id": "beautiful-presence",
   "metadata": {},
   "outputs": [
    {
     "name": "stdout",
     "output_type": "stream",
     "text": [
      "{}\n"
     ]
    }
   ],
   "source": [
    "# Delete all elements in the dictionary\n",
    "thisdict.clear()\n",
    "print(thisdict)"
   ]
  },
  {
   "cell_type": "markdown",
   "id": "nonprofit-entrance",
   "metadata": {},
   "source": [
    "# Map"
   ]
  },
  {
   "cell_type": "code",
   "execution_count": 40,
   "id": "conventional-greenhouse",
   "metadata": {},
   "outputs": [
    {
     "name": "stdout",
     "output_type": "stream",
     "text": [
      "{8, 2, 4, 6}\n"
     ]
    }
   ],
   "source": [
    "def addition(n):\n",
    "    return n + n\n",
    "\n",
    "# We double all numbers using map()\n",
    "numbers = [1, 2, 3, 4,4]\n",
    "result = set(map(addition, numbers))\n",
    "print(result)"
   ]
  },
  {
   "cell_type": "code",
   "execution_count": null,
   "id": "ddbad184",
   "metadata": {},
   "outputs": [],
   "source": []
  }
 ],
 "metadata": {
  "kernelspec": {
   "display_name": "Python 3 (ipykernel)",
   "language": "python",
   "name": "python3"
  },
  "language_info": {
   "codemirror_mode": {
    "name": "ipython",
    "version": 3
   },
   "file_extension": ".py",
   "mimetype": "text/x-python",
   "name": "python",
   "nbconvert_exporter": "python",
   "pygments_lexer": "ipython3",
   "version": "3.9.7"
  }
 },
 "nbformat": 4,
 "nbformat_minor": 5
}
